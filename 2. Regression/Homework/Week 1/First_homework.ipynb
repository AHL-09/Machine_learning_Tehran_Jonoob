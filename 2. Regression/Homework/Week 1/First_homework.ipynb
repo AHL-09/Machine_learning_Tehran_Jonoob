{
 "cells": [
  {
   "cell_type": "code",
   "execution_count": 834,
   "metadata": {
    "pycharm": {
     "is_executing": false
    }
   },
   "outputs": [],
   "source": [
    "import pandas as pd\n",
    "import numpy as np\n"
   ]
  },
  {
   "cell_type": "code",
   "execution_count": 835,
   "metadata": {
    "pycharm": {
     "is_executing": false
    }
   },
   "outputs": [],
   "source": [
    "# کامنت های فارسی مشکل راست به چپ داشت، بعضی جاها انگلیسی نوشتم\n",
    "# because we are using Pandas, and it requires a dictionary of \n",
    "# types we add this line to our code \n",
    "\n",
    "dtype_dict = {'bathrooms':float, 'waterfront':int, 'sqft_above':int, 'sqft_living15':float, 'grade':int, \n",
    "              'yr_renovated':int, 'price':float, 'bedrooms':float, 'zipcode':str, 'long':float, \n",
    "              'sqft_lot15':float, 'sqft_living':float, 'floors':str, 'condition':int, 'lat':float, \n",
    "              'date':str,'sqft_basement':int, 'yr_built':int, 'id':str, 'sqft_lot':int, 'view':int}"
   ]
  },
  {
   "cell_type": "code",
   "execution_count": 836,
   "metadata": {
    "pycharm": {
     "is_executing": false
    }
   },
   "outputs": [],
   "source": [
    "# دیتای خود را ابتدا میخوانیم و به\n",
    "# sales, traning data, test data\n",
    "# تقسیم میکنیم تا مدل را بر اساس آن پایه گذاری کنیم. \n",
    "# sales قیمت واقعی فروش رفته خانه\n",
    "\n",
    "sales = pd.read_csv('kc_house_data.csv', dtype=dtype_dict)\n",
    "train_data = pd.read_csv('kc_house_train_data.csv', dtype=dtype_dict)\n",
    "test_data = pd.read_csv('kc_house_test_data.csv', dtype=dtype_dict)\n"
   ]
  },
  {
   "cell_type": "code",
   "execution_count": 837,
   "metadata": {
    "pycharm": {
     "is_executing": false,
     "name": "#%%\n"
    }
   },
   "outputs": [
    {
     "data": {
      "text/plain": "           id             date     price  bedrooms  bathrooms  sqft_living  \\\n0  7129300520  20141013T000000  221900.0       3.0       1.00       1180.0   \n1  6414100192  20141209T000000  538000.0       3.0       2.25       2570.0   \n2  5631500400  20150225T000000  180000.0       2.0       1.00        770.0   \n3  2487200875  20141209T000000  604000.0       4.0       3.00       1960.0   \n4  1954400510  20150218T000000  510000.0       3.0       2.00       1680.0   \n\n   sqft_lot floors  waterfront  view  ...  grade  sqft_above  sqft_basement  \\\n0      5650      1           0     0  ...      7        1180              0   \n1      7242      2           0     0  ...      7        2170            400   \n2     10000      1           0     0  ...      6         770              0   \n3      5000      1           0     0  ...      7        1050            910   \n4      8080      1           0     0  ...      8        1680              0   \n\n   yr_built  yr_renovated  zipcode      lat     long  sqft_living15  \\\n0      1955             0    98178  47.5112 -122.257         1340.0   \n1      1951          1991    98125  47.7210 -122.319         1690.0   \n2      1933             0    98028  47.7379 -122.233         2720.0   \n3      1965             0    98136  47.5208 -122.393         1360.0   \n4      1987             0    98074  47.6168 -122.045         1800.0   \n\n   sqft_lot15  \n0      5650.0  \n1      7639.0  \n2      8062.0  \n3      5000.0  \n4      7503.0  \n\n[5 rows x 21 columns]",
      "text/html": "<div>\n<style scoped>\n    .dataframe tbody tr th:only-of-type {\n        vertical-align: middle;\n    }\n\n    .dataframe tbody tr th {\n        vertical-align: top;\n    }\n\n    .dataframe thead th {\n        text-align: right;\n    }\n</style>\n<table border=\"1\" class=\"dataframe\">\n  <thead>\n    <tr style=\"text-align: right;\">\n      <th></th>\n      <th>id</th>\n      <th>date</th>\n      <th>price</th>\n      <th>bedrooms</th>\n      <th>bathrooms</th>\n      <th>sqft_living</th>\n      <th>sqft_lot</th>\n      <th>floors</th>\n      <th>waterfront</th>\n      <th>view</th>\n      <th>...</th>\n      <th>grade</th>\n      <th>sqft_above</th>\n      <th>sqft_basement</th>\n      <th>yr_built</th>\n      <th>yr_renovated</th>\n      <th>zipcode</th>\n      <th>lat</th>\n      <th>long</th>\n      <th>sqft_living15</th>\n      <th>sqft_lot15</th>\n    </tr>\n  </thead>\n  <tbody>\n    <tr>\n      <td>0</td>\n      <td>7129300520</td>\n      <td>20141013T000000</td>\n      <td>221900.0</td>\n      <td>3.0</td>\n      <td>1.00</td>\n      <td>1180.0</td>\n      <td>5650</td>\n      <td>1</td>\n      <td>0</td>\n      <td>0</td>\n      <td>...</td>\n      <td>7</td>\n      <td>1180</td>\n      <td>0</td>\n      <td>1955</td>\n      <td>0</td>\n      <td>98178</td>\n      <td>47.5112</td>\n      <td>-122.257</td>\n      <td>1340.0</td>\n      <td>5650.0</td>\n    </tr>\n    <tr>\n      <td>1</td>\n      <td>6414100192</td>\n      <td>20141209T000000</td>\n      <td>538000.0</td>\n      <td>3.0</td>\n      <td>2.25</td>\n      <td>2570.0</td>\n      <td>7242</td>\n      <td>2</td>\n      <td>0</td>\n      <td>0</td>\n      <td>...</td>\n      <td>7</td>\n      <td>2170</td>\n      <td>400</td>\n      <td>1951</td>\n      <td>1991</td>\n      <td>98125</td>\n      <td>47.7210</td>\n      <td>-122.319</td>\n      <td>1690.0</td>\n      <td>7639.0</td>\n    </tr>\n    <tr>\n      <td>2</td>\n      <td>5631500400</td>\n      <td>20150225T000000</td>\n      <td>180000.0</td>\n      <td>2.0</td>\n      <td>1.00</td>\n      <td>770.0</td>\n      <td>10000</td>\n      <td>1</td>\n      <td>0</td>\n      <td>0</td>\n      <td>...</td>\n      <td>6</td>\n      <td>770</td>\n      <td>0</td>\n      <td>1933</td>\n      <td>0</td>\n      <td>98028</td>\n      <td>47.7379</td>\n      <td>-122.233</td>\n      <td>2720.0</td>\n      <td>8062.0</td>\n    </tr>\n    <tr>\n      <td>3</td>\n      <td>2487200875</td>\n      <td>20141209T000000</td>\n      <td>604000.0</td>\n      <td>4.0</td>\n      <td>3.00</td>\n      <td>1960.0</td>\n      <td>5000</td>\n      <td>1</td>\n      <td>0</td>\n      <td>0</td>\n      <td>...</td>\n      <td>7</td>\n      <td>1050</td>\n      <td>910</td>\n      <td>1965</td>\n      <td>0</td>\n      <td>98136</td>\n      <td>47.5208</td>\n      <td>-122.393</td>\n      <td>1360.0</td>\n      <td>5000.0</td>\n    </tr>\n    <tr>\n      <td>4</td>\n      <td>1954400510</td>\n      <td>20150218T000000</td>\n      <td>510000.0</td>\n      <td>3.0</td>\n      <td>2.00</td>\n      <td>1680.0</td>\n      <td>8080</td>\n      <td>1</td>\n      <td>0</td>\n      <td>0</td>\n      <td>...</td>\n      <td>8</td>\n      <td>1680</td>\n      <td>0</td>\n      <td>1987</td>\n      <td>0</td>\n      <td>98074</td>\n      <td>47.6168</td>\n      <td>-122.045</td>\n      <td>1800.0</td>\n      <td>7503.0</td>\n    </tr>\n  </tbody>\n</table>\n<p>5 rows × 21 columns</p>\n</div>"
     },
     "metadata": {},
     "output_type": "execute_result",
     "execution_count": 837
    }
   ],
   "source": [
    "# Let's first see what we have\t \n",
    "sales.head()"
   ]
  },
  {
   "cell_type": "code",
   "execution_count": 838,
   "outputs": [],
   "source": [
    "# first, we need a method to predict our percieved sales price based on an \"input_feature\" that \n",
    "# will be \"sqft_living\" later. we only use \"sqft_living\" since our model is \"simple linear regression\"\n",
    "# we denote w0 with intercept (arz az mabda) and w1 with slope(shib) \n",
    "# here \"predicted value\" is the same as f(x) in the lecture slides\n",
    "def get_predictions(input_feature, intercept, slope):\n",
    "    # calculate the predicted values:\n",
    "    predicted_values = intercept + (slope * input_feature)\n",
    "    return predicted_values"
   ],
   "metadata": {
    "collapsed": false,
    "pycharm": {
     "name": "#%%\n",
     "is_executing": false
    }
   }
  },
  {
   "cell_type": "code",
   "execution_count": 839,
   "outputs": [],
   "source": [
    "# برای پیدا کردن بهترین خط به محاسبه RSS نیاز داریم\n",
    "def get_residual_sum_of_squares(input_feature, output, intercept, slope):\n",
    "    # ابتدا قیمت پیش بینی شده خانه را با توجه به شیب و عرض از مبدا رندم بدست می آوریم\n",
    "    predicted_values = intercept + (slope * input_feature)\n",
    "    # then we compute the residuals \n",
    "    residuals = output - predicted_values\n",
    "    # first square the residuals \n",
    "    # then add them together\n",
    "    RSS = (residuals * residuals).sum()\n",
    "    return(RSS)"
   ],
   "metadata": {
    "collapsed": false,
    "pycharm": {
     "name": "#%%\n",
     "is_executing": false
    }
   }
  },
  {
   "cell_type": "code",
   "execution_count": 841,
   "outputs": [
    {
     "name": "stdout",
     "text": [
      "Here is the list for all computed RSS\n[1.789137090676093e+23, 3.582716844592532e+22, 1.9198549771050885e+22, 1.6173245819889283e+22, 7.027015110160076e+21, 9.97705248944448e+21, 3.5154469576354887e+21, 5.057245858834231e+21, 1.4960864909583157e+22, 2.861997604050873e+22, 1.4267069954015764e+21, 1.0148510412045466e+22, 1.0309006095332128e+22, 4.587859135703266e+22, 1.898471934104854e+22, 2.4900460080806253e+21, 1.3924103982924475e+23, 9.315583715087931e+21, 6.490714849954045e+22, 2.1966058482502356e+22, 5.404940672321679e+20, 4.872339348236772e+22, 4.552081239789467e+21, 1.5686694886353618e+23, 1.3005774423441063e+22, 2.0203886058304113e+22, 6.783433640349855e+22, 6.274985564808934e+20, 1.9520581736690814e+21, 3.3613042458513994e+21, 1.3630780746332618e+23, 6.937029683826714e+17, 7.748263870794065e+22, 3.3955932223922724e+22, 1.1240710368137377e+22, 1.3618623127850525e+22, 2.522645322968589e+22, 9.281086081244318e+22, 3.4721884312736314e+21, 1.7775481807118403e+22, 3.9842499287964755e+21, 1.2280902561048119e+23, 3.558681119702825e+21, 1.126435494226311e+22, 3.968521974284109e+22, 2.1264894093613535e+19, 1.2127583914923464e+18, 7.4704921037441144e+22, 2.852736118152001e+21, 1.938323780958999e+21, 1.4475690026556106e+21, 1.8795508090904385e+22, 6.496443606846048e+21, 1.2635549429182334e+21, 2.846368559905322e+22, 7.787976554439072e+21, 1.2326659849890963e+19, 3.210541779996224e+22, 6.168315312881399e+22, 1.2535073568853674e+22, 1.2591032099936882e+22, 2.573100645423088e+22, 3.4998261893064676e+16, 2.430820400527465e+21, 5.570670194114488e+22, 3.6697243347799285e+22, 1.5683470991222968e+20, 1.4909702065447846e+22, 3.1588348938341912e+22, 1.2012439187960585e+23, 1.0837340070305228e+21, 1.922177643997922e+22, 3.6554115529043014e+22, 1.0414139678897176e+22, 7.293864664954326e+21, 5.464239695306304e+22, 2.422186931290052e+22, 4.7151720384295803e+20, 6.481820707170038e+21, 3.2319390984287316e+20, 1.4986912131767452e+21, 3.0363360645516653e+22, 3.762287852282937e+22, 5.616383669398995e+21, 1.7293526531025215e+22, 1.2643074190203173e+22, 7.13128170493038e+22, 1.6117453876769986e+21, 1.9796547504374733e+22, 3.418856330902386e+21, 1.5174092274056943e+21, 2.4554112417650295e+22, 5.348106912600675e+22, 1.6369206531391328e+19, 8.268276762332392e+22, 1.1050287276470015e+22, 1.4508641144912405e+21, 2.384156350450431e+21, 2.9887258945827235e+22, 1.7725168357131986e+22, 1.0656307721479963e+20, 1.9777653636036636e+22, 9.009770045797407e+21, 1.1745856619751997e+22, 4.0399441490363265e+22, 2.918337987083755e+22, 5.297890922782676e+21, 1.7078895222472342e+21, 7.843598292808516e+19, 4.243159622689891e+21, 2.693639847783833e+22, 1.555766889454769e+22, 5.08548304196857e+21, 1.702444360938808e+22, 4.72961298732476e+22, 3.3099754687244488e+22, 1.2005313925816532e+21, 1.179918957741807e+22, 2.205928724004008e+22, 1.5118584651857994e+22, 8.243594252270746e+20, 2.937169090773381e+21, 1.2878956407814556e+22, 2.825049679463178e+21, 9.047247862116565e+21, 8.459096989779923e+20, 1.2542891902590083e+22, 8.21688180834204e+19, 2.0023208358379684e+22, 4.232981886042126e+22, 5.857964221768746e+21, 8.33636277126536e+21, 1.235671709292843e+22, 3.186073849129076e+18, 5.7228087996615734e+20, 1.1471909417589953e+22, 2.1992146353575266e+21, 2.5971515191114104e+21, 3.4053822849865474e+22, 1.920828999859078e+22, 1.0588198139680998e+22, 2.459992695980168e+22, 1.270207195544676e+21, 4.959762776378532e+19, 1.2770637084148294e+22, 3.789739698170733e+19, 5.061885293364036e+21, 1.825580392895892e+21, 1.4151337694122883e+23, 7.854564294816493e+19, 1.3406083470705394e+22, 1.3869514264032118e+22, 6.3818565076808595e+22, 1.579552309356806e+22, 2.712522262453075e+21, 2.0292674616622863e+21, 1.226709894309697e+21, 5.054455243348044e+21, 4.404422087705287e+22, 8.545940356073412e+22, 9.950235653640712e+21, 1.8797167919460965e+20, 3.964030176976358e+22, 1.4050778532014077e+22, 3.13638287979661e+22, 1.1302599180857542e+22, 9.48845039032268e+20, 4.389600195870313e+22, 4.890033344760848e+21, 2.1790505239999988e+21, 6.8790854318849215e+22, 2.2525116981426623e+22, 1.816673355892511e+22, 5.71338651742937e+21, 3.1464017000770496e+20, 1.1174867224762245e+22, 1.1566918943123009e+23, 8.942040932114415e+22, 1.147557318966358e+23, 2.1467883831353782e+21, 7.858189999001917e+21, 4.599628140830987e+22, 2.2049398968387006e+23, 1.4863753686294458e+22, 2.413320173209627e+22, 1.5938781251765377e+22, 8.998977911892549e+21, 1.838736319745699e+21, 1.353840548217196e+22, 2.358149102480076e+21, 7.41673861596298e+21, 1.543718982915772e+22, 2.278088521021318e+22, 3.0443151742197354e+22, 4.953539375426089e+22, 2.9933989417686847e+21, 7.243667172497247e+20, 8.023591656627693e+19, 7.2598710553210476e+22]\n\n\n\nLowest RSS is 3.4998261893064676e+16\nThe equation of the best line: -1475.95x+1224889.50\n"
     ],
     "output_type": "stream"
    }
   ],
   "source": [
    "# میدانیم بهترین خط خطی است که کم ترین آر اس اس را داشته باشد \n",
    "# در یک حلقه برای تمام شیب ها و عرض از مبدا هایی که تولید کردیم، آر اس اس بدست می آوریم و\n",
    "#  کمترین RSS را پیدا می کنیم\n",
    "\n",
    "RSS_list = []\n",
    "min = 1.7976931048623157e+308\n",
    "i = 1\n",
    "while i < 200:\n",
    "    \n",
    "    # produce random intercept and slope\n",
    "    df_intercept = np.random.normal(0,1000000)\n",
    "    df_slope = np.random.normal(0,1000000)\n",
    "    # calculate the RSS for this particular line\n",
    "    rss_prices_on_sqft = get_residual_sum_of_squares(test_data['sqft_living'].values,\n",
    "                                                     test_data['price'].values,\n",
    "                                                     df_intercept,\n",
    "                                                     df_slope)\n",
    "    # checking whether the minimum RSS has changed\n",
    "    if (rss_prices_on_sqft<min):\n",
    "        min = rss_prices_on_sqft\n",
    "        intercept = df_intercept\n",
    "        slope = df_slope\n",
    "    \n",
    "    # keeping a record of all our calculated RSS     \n",
    "    RSS_list.append(rss_prices_on_sqft)\n",
    "    i += 1\n",
    "\n",
    "print(\"\\n\")\n",
    "# finding the lowest RSS (and as a result best line))\n",
    "# ممکن است معادله خط نهایی شامل ضرایب بزرگ باشد اما با چند بار تست آر اس اس میانگین \n",
    "# نزدیک به آر اس اس مورد نظر دانشگاه واشنگتن میباشد\n",
    "print(\"Lowest RSS is \" + str(min))\n",
    "print(\"The equation of the best line: \" +str(\"%+.2f\" %slope) +\"x\"+ str(\"%+.2f\" %intercept))\n",
    "\n",
    "\n",
    "\n"
   ],
   "metadata": {
    "collapsed": false,
    "pycharm": {
     "name": "#%%\n",
     "is_executing": false
    }
   }
  },
  {
   "cell_type": "code",
   "execution_count": 841,
   "outputs": [],
   "source": [
    "\n"
   ],
   "metadata": {
    "collapsed": false,
    "pycharm": {
     "name": "#%%\n",
     "is_executing": false
    }
   }
  }
 ],
 "metadata": {
  "kernelspec": {
   "display_name": "Python 3",
   "language": "python",
   "name": "python3"
  },
  "language_info": {
   "codemirror_mode": {
    "name": "ipython",
    "version": 3
   },
   "file_extension": ".py",
   "mimetype": "text/x-python",
   "name": "python",
   "nbconvert_exporter": "python",
   "pygments_lexer": "ipython3",
   "version": "3.7.3"
  },
  "pycharm": {
   "stem_cell": {
    "cell_type": "raw",
    "source": [],
    "metadata": {
     "collapsed": false
    }
   }
  }
 },
 "nbformat": 4,
 "nbformat_minor": 2
}