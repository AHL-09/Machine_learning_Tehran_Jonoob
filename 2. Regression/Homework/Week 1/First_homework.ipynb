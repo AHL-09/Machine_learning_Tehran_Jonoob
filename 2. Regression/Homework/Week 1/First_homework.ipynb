{
 "cells": [
  {
   "cell_type": "code",
   "execution_count": 1,
   "metadata": {
    "pycharm": {
     "is_executing": false
    }
   },
   "outputs": [],
   "source": [
    "import pandas as pd\n",
    "import numpy as np\n"
   ]
  },
  {
   "cell_type": "code",
   "execution_count": 2,
   "metadata": {
    "pycharm": {
     "is_executing": false
    }
   },
   "outputs": [],
   "source": [
    "# کامنت های فارسی مشکل راست به چپ داشت، بعضی جاها انگلیسی نوشتم\n",
    "# because we are using Pandas, and it requires a dictionary of \n",
    "# types we add this line to our code \n",
    "\n",
    "dtype_dict = {'bathrooms':float, 'waterfront':int, 'sqft_above':int, 'sqft_living15':float, 'grade':int, \n",
    "              'yr_renovated':int, 'price':float, 'bedrooms':float, 'zipcode':str, 'long':float, \n",
    "              'sqft_lot15':float, 'sqft_living':float, 'floors':str, 'condition':int, 'lat':float, \n",
    "              'date':str,'sqft_basement':int, 'yr_built':int, 'id':str, 'sqft_lot':int, 'view':int}"
   ]
  },
  {
   "cell_type": "code",
   "execution_count": 3,
   "metadata": {
    "pycharm": {
     "is_executing": false
    }
   },
   "outputs": [],
   "source": [
    "# دیتای خود را ابتدا میخوانیم و به\n",
    "# sales, traning data, test data\n",
    "# تقسیم میکنیم تا مدل را بر اساس آن پایه گذاری کنیم. \n",
    "# sales قیمت واقعی فروش رفته خانه\n",
    "\n",
    "sales = pd.read_csv('kc_house_data.csv', dtype=dtype_dict)\n",
    "train_data = pd.read_csv('kc_house_train_data.csv', dtype=dtype_dict)\n",
    "test_data = pd.read_csv('kc_house_test_data.csv', dtype=dtype_dict)\n"
   ]
  },
  {
   "cell_type": "code",
   "execution_count": 4,
   "metadata": {
    "pycharm": {
     "is_executing": false,
     "name": "#%%\n"
    }
   },
   "outputs": [
    {
     "data": {
      "text/plain": "           id             date     price  bedrooms  bathrooms  sqft_living  \\\n0  7129300520  20141013T000000  221900.0       3.0       1.00       1180.0   \n1  6414100192  20141209T000000  538000.0       3.0       2.25       2570.0   \n2  5631500400  20150225T000000  180000.0       2.0       1.00        770.0   \n3  2487200875  20141209T000000  604000.0       4.0       3.00       1960.0   \n4  1954400510  20150218T000000  510000.0       3.0       2.00       1680.0   \n\n   sqft_lot floors  waterfront  view  ...  grade  sqft_above  sqft_basement  \\\n0      5650      1           0     0  ...      7        1180              0   \n1      7242      2           0     0  ...      7        2170            400   \n2     10000      1           0     0  ...      6         770              0   \n3      5000      1           0     0  ...      7        1050            910   \n4      8080      1           0     0  ...      8        1680              0   \n\n   yr_built  yr_renovated  zipcode      lat     long  sqft_living15  \\\n0      1955             0    98178  47.5112 -122.257         1340.0   \n1      1951          1991    98125  47.7210 -122.319         1690.0   \n2      1933             0    98028  47.7379 -122.233         2720.0   \n3      1965             0    98136  47.5208 -122.393         1360.0   \n4      1987             0    98074  47.6168 -122.045         1800.0   \n\n   sqft_lot15  \n0      5650.0  \n1      7639.0  \n2      8062.0  \n3      5000.0  \n4      7503.0  \n\n[5 rows x 21 columns]",
      "text/html": "<div>\n<style scoped>\n    .dataframe tbody tr th:only-of-type {\n        vertical-align: middle;\n    }\n\n    .dataframe tbody tr th {\n        vertical-align: top;\n    }\n\n    .dataframe thead th {\n        text-align: right;\n    }\n</style>\n<table border=\"1\" class=\"dataframe\">\n  <thead>\n    <tr style=\"text-align: right;\">\n      <th></th>\n      <th>id</th>\n      <th>date</th>\n      <th>price</th>\n      <th>bedrooms</th>\n      <th>bathrooms</th>\n      <th>sqft_living</th>\n      <th>sqft_lot</th>\n      <th>floors</th>\n      <th>waterfront</th>\n      <th>view</th>\n      <th>...</th>\n      <th>grade</th>\n      <th>sqft_above</th>\n      <th>sqft_basement</th>\n      <th>yr_built</th>\n      <th>yr_renovated</th>\n      <th>zipcode</th>\n      <th>lat</th>\n      <th>long</th>\n      <th>sqft_living15</th>\n      <th>sqft_lot15</th>\n    </tr>\n  </thead>\n  <tbody>\n    <tr>\n      <td>0</td>\n      <td>7129300520</td>\n      <td>20141013T000000</td>\n      <td>221900.0</td>\n      <td>3.0</td>\n      <td>1.00</td>\n      <td>1180.0</td>\n      <td>5650</td>\n      <td>1</td>\n      <td>0</td>\n      <td>0</td>\n      <td>...</td>\n      <td>7</td>\n      <td>1180</td>\n      <td>0</td>\n      <td>1955</td>\n      <td>0</td>\n      <td>98178</td>\n      <td>47.5112</td>\n      <td>-122.257</td>\n      <td>1340.0</td>\n      <td>5650.0</td>\n    </tr>\n    <tr>\n      <td>1</td>\n      <td>6414100192</td>\n      <td>20141209T000000</td>\n      <td>538000.0</td>\n      <td>3.0</td>\n      <td>2.25</td>\n      <td>2570.0</td>\n      <td>7242</td>\n      <td>2</td>\n      <td>0</td>\n      <td>0</td>\n      <td>...</td>\n      <td>7</td>\n      <td>2170</td>\n      <td>400</td>\n      <td>1951</td>\n      <td>1991</td>\n      <td>98125</td>\n      <td>47.7210</td>\n      <td>-122.319</td>\n      <td>1690.0</td>\n      <td>7639.0</td>\n    </tr>\n    <tr>\n      <td>2</td>\n      <td>5631500400</td>\n      <td>20150225T000000</td>\n      <td>180000.0</td>\n      <td>2.0</td>\n      <td>1.00</td>\n      <td>770.0</td>\n      <td>10000</td>\n      <td>1</td>\n      <td>0</td>\n      <td>0</td>\n      <td>...</td>\n      <td>6</td>\n      <td>770</td>\n      <td>0</td>\n      <td>1933</td>\n      <td>0</td>\n      <td>98028</td>\n      <td>47.7379</td>\n      <td>-122.233</td>\n      <td>2720.0</td>\n      <td>8062.0</td>\n    </tr>\n    <tr>\n      <td>3</td>\n      <td>2487200875</td>\n      <td>20141209T000000</td>\n      <td>604000.0</td>\n      <td>4.0</td>\n      <td>3.00</td>\n      <td>1960.0</td>\n      <td>5000</td>\n      <td>1</td>\n      <td>0</td>\n      <td>0</td>\n      <td>...</td>\n      <td>7</td>\n      <td>1050</td>\n      <td>910</td>\n      <td>1965</td>\n      <td>0</td>\n      <td>98136</td>\n      <td>47.5208</td>\n      <td>-122.393</td>\n      <td>1360.0</td>\n      <td>5000.0</td>\n    </tr>\n    <tr>\n      <td>4</td>\n      <td>1954400510</td>\n      <td>20150218T000000</td>\n      <td>510000.0</td>\n      <td>3.0</td>\n      <td>2.00</td>\n      <td>1680.0</td>\n      <td>8080</td>\n      <td>1</td>\n      <td>0</td>\n      <td>0</td>\n      <td>...</td>\n      <td>8</td>\n      <td>1680</td>\n      <td>0</td>\n      <td>1987</td>\n      <td>0</td>\n      <td>98074</td>\n      <td>47.6168</td>\n      <td>-122.045</td>\n      <td>1800.0</td>\n      <td>7503.0</td>\n    </tr>\n  </tbody>\n</table>\n<p>5 rows × 21 columns</p>\n</div>"
     },
     "metadata": {},
     "output_type": "execute_result",
     "execution_count": 4
    }
   ],
   "source": [
    "# Let's first see what we have\t \n",
    "sales.head()"
   ]
  },
  {
   "cell_type": "code",
   "execution_count": 5,
   "outputs": [],
   "source": [
    "# first, we need a method to predict our percieved sales price based on an \"input_feature\" that \n",
    "# will be \"sqft_living\" later. we only use \"sqft_living\" since our model is \"simple linear regression\"\n",
    "# we denote w0 with intercept (arz az mabda) and w1 with slope(shib) \n",
    "# here \"predicted value\" is the same as f(x) in the lecture slides\n",
    "def get_predictions(input_feature, intercept, slope):\n",
    "    # calculate the predicted values:\n",
    "    predicted_values = intercept + (slope * input_feature)\n",
    "    return predicted_values"
   ],
   "metadata": {
    "collapsed": false,
    "pycharm": {
     "name": "#%%\n",
     "is_executing": false
    }
   }
  },
  {
   "cell_type": "code",
   "execution_count": 6,
   "outputs": [],
   "source": [
    "# برای پیدا کردن بهترین خط به محاسبه RSS نیاز داریم\n",
    "def get_residual_sum_of_squares(input_feature, output, intercept, slope):\n",
    "    # ابتدا قیمت پیش بینی شده خانه را با توجه به شیب و عرض از مبدا رندم بدست می آوریم\n",
    "    predicted_values = intercept + (slope * input_feature)\n",
    "    # then we compute the residuals \n",
    "    residuals = output - predicted_values\n",
    "    # first square the residuals \n",
    "    # then add them together\n",
    "    RSS = (residuals * residuals).sum()\n",
    "    return(RSS)"
   ],
   "metadata": {
    "collapsed": false,
    "pycharm": {
     "name": "#%%\n",
     "is_executing": false
    }
   }
  },
  {
   "cell_type": "code",
   "execution_count": 7,
   "outputs": [
    {
     "name": "stdout",
     "text": [
      "\n\nLowest RSS is 3.366176700918546e+17\nThe equation of the best line: +4339.41x-356391.23\n"
     ],
     "output_type": "stream"
    }
   ],
   "source": [
    "# میدانیم بهترین خط خطی است که کم ترین آر اس اس را داشته باشد \n",
    "# در یک حلقه برای تمام شیب ها و عرض از مبدا هایی که تولید کردیم، آر اس اس بدست می آوریم و\n",
    "#  کمترین RSS را پیدا می کنیم\n",
    "\n",
    "RSS_list = []\n",
    "min = 1.7976931048623157e+308\n",
    "i = 1\n",
    "while i < 200:\n",
    "    \n",
    "    # produce random intercept and slope\n",
    "    df_intercept = np.random.normal(0,1000000)\n",
    "    df_slope = np.random.normal(0,1000000)\n",
    "    # calculate the RSS for this particular line\n",
    "    rss_prices_on_sqft = get_residual_sum_of_squares(test_data['sqft_living'].values,\n",
    "                                                     test_data['price'].values,\n",
    "                                                     df_intercept,\n",
    "                                                     df_slope)\n",
    "    # checking whether the minimum RSS has changed\n",
    "    if (rss_prices_on_sqft<min):\n",
    "        min = rss_prices_on_sqft\n",
    "        intercept = df_intercept\n",
    "        slope = df_slope\n",
    "    \n",
    "    # keeping a record of all our calculated RSS     \n",
    "    RSS_list.append(rss_prices_on_sqft)\n",
    "    i += 1\n",
    "\n",
    "print(\"\\n\")\n",
    "# finding the lowest RSS (and as a result best line))\n",
    "# ممکن است معادله خط نهایی شامل ضرایب بزرگ باشد اما با چند بار تست آر اس اس میانگین \n",
    "# نزدیک به آر اس اس مورد نظر دانشگاه واشنگتن میباشد\n",
    "print(\"Lowest RSS is \" + str(min))\n",
    "print(\"The equation of the best line: \" +str(\"%+.2f\" %slope) +\"x\"+ str(\"%+.2f\" %intercept))\n",
    "\n",
    "\n",
    "\n"
   ],
   "metadata": {
    "collapsed": false,
    "pycharm": {
     "name": "#%%\n",
     "is_executing": false
    }
   }
  },
  {
   "cell_type": "code",
   "execution_count": 7,
   "outputs": [],
   "source": [
    "\n"
   ],
   "metadata": {
    "collapsed": false,
    "pycharm": {
     "name": "#%%\n",
     "is_executing": false
    }
   }
  }
 ],
 "metadata": {
  "kernelspec": {
   "display_name": "Python 3",
   "language": "python",
   "name": "python3"
  },
  "language_info": {
   "codemirror_mode": {
    "name": "ipython",
    "version": 3
   },
   "file_extension": ".py",
   "mimetype": "text/x-python",
   "name": "python",
   "nbconvert_exporter": "python",
   "pygments_lexer": "ipython3",
   "version": "3.7.3"
  },
  "pycharm": {
   "stem_cell": {
    "cell_type": "raw",
    "source": [],
    "metadata": {
     "collapsed": false
    }
   }
  }
 },
 "nbformat": 4,
 "nbformat_minor": 2
}